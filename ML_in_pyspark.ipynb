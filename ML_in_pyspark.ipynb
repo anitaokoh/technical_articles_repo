{
  "nbformat": 4,
  "nbformat_minor": 0,
  "metadata": {
    "colab": {
      "name": "ML_in_pyspark.ipynb",
      "provenance": [],
      "authorship_tag": "ABX9TyP0JgSAP5S95+2yhlZ037Iw",
      "include_colab_link": true
    },
    "kernelspec": {
      "name": "python3",
      "display_name": "Python 3"
    },
    "language_info": {
      "name": "python"
    }
  },
  "cells": [
    {
      "cell_type": "markdown",
      "metadata": {
        "id": "view-in-github",
        "colab_type": "text"
      },
      "source": [
        "<a href=\"https://colab.research.google.com/github/anitaokoh/technical_articles_repo/blob/main/ML_in_pyspark.ipynb\" target=\"_parent\"><img src=\"https://colab.research.google.com/assets/colab-badge.svg\" alt=\"Open In Colab\"/></a>"
      ]
    },
    {
      "cell_type": "code",
      "execution_count": null,
      "metadata": {
        "id": "RjKnIJSclE5Y"
      },
      "outputs": [],
      "source": [
        "! pip install kaggle\n",
        "! mkdir ~/.kaggle\n",
        "!cp /content/drive/MyDrive/kaggle.json ~/.kaggle/kaggle.json\n",
        "! kaggle datasets download -d mkechinov/ecommerce-behavior-data-from-multi-category-store\n",
        "!unzip ecommerce-behavior-data-from-multi-category-store.zip"
      ]
    },
    {
      "cell_type": "code",
      "source": [
        ""
      ],
      "metadata": {
        "id": "JeDymD_tlMuk"
      },
      "execution_count": null,
      "outputs": []
    }
  ]
}