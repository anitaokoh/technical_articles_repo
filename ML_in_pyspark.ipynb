{
  "nbformat": 4,
  "nbformat_minor": 0,
  "metadata": {
    "colab": {
      "name": "ML_in_pyspark.ipynb",
      "provenance": [],
      "mount_file_id": "19Hvz9G031eBwYwz0v-YW3PhJWB5FS9Tw",
      "authorship_tag": "ABX9TyOieflOzWjimCnBQUcdjHhz",
      "include_colab_link": true
    },
    "kernelspec": {
      "name": "python3",
      "display_name": "Python 3"
    },
    "language_info": {
      "name": "python"
    }
  },
  "cells": [
    {
      "cell_type": "markdown",
      "metadata": {
        "id": "view-in-github",
        "colab_type": "text"
      },
      "source": [
        "<a href=\"https://colab.research.google.com/github/anitaokoh/technical_articles_repo/blob/main/ML_in_pyspark.ipynb\" target=\"_parent\"><img src=\"https://colab.research.google.com/assets/colab-badge.svg\" alt=\"Open In Colab\"/></a>"
      ]
    },
    {
      "cell_type": "code",
      "execution_count": 1,
      "metadata": {
        "colab": {
          "base_uri": "https://localhost:8080/"
        },
        "id": "RjKnIJSclE5Y",
        "outputId": "2c3610be-364b-4504-d88e-4642546d5e2f"
      },
      "outputs": [
        {
          "output_type": "stream",
          "name": "stdout",
          "text": [
            "Looking in indexes: https://pypi.org/simple, https://us-python.pkg.dev/colab-wheels/public/simple/\n",
            "Requirement already satisfied: kaggle in /usr/local/lib/python3.7/dist-packages (1.5.12)\n",
            "Requirement already satisfied: requests in /usr/local/lib/python3.7/dist-packages (from kaggle) (2.23.0)\n",
            "Requirement already satisfied: six>=1.10 in /usr/local/lib/python3.7/dist-packages (from kaggle) (1.15.0)\n",
            "Requirement already satisfied: python-slugify in /usr/local/lib/python3.7/dist-packages (from kaggle) (6.1.2)\n",
            "Requirement already satisfied: urllib3 in /usr/local/lib/python3.7/dist-packages (from kaggle) (1.24.3)\n",
            "Requirement already satisfied: tqdm in /usr/local/lib/python3.7/dist-packages (from kaggle) (4.64.0)\n",
            "Requirement already satisfied: certifi in /usr/local/lib/python3.7/dist-packages (from kaggle) (2022.6.15)\n",
            "Requirement already satisfied: python-dateutil in /usr/local/lib/python3.7/dist-packages (from kaggle) (2.8.2)\n",
            "Requirement already satisfied: text-unidecode>=1.3 in /usr/local/lib/python3.7/dist-packages (from python-slugify->kaggle) (1.3)\n",
            "Requirement already satisfied: chardet<4,>=3.0.2 in /usr/local/lib/python3.7/dist-packages (from requests->kaggle) (3.0.4)\n",
            "Requirement already satisfied: idna<3,>=2.5 in /usr/local/lib/python3.7/dist-packages (from requests->kaggle) (2.10)\n",
            "mkdir: cannot create directory ‘/root/.kaggle’: File exists\n",
            "Downloading titanic-dataset.zip to /content\n",
            "  0% 0.00/22.0k [00:00<?, ?B/s]\n",
            "100% 22.0k/22.0k [00:00<00:00, 14.8MB/s]\n",
            "Archive:  titanic-dataset.zip\n",
            "  inflating: Titanic-Dataset.csv     \n"
          ]
        }
      ],
      "source": [
        "! pip install kaggle\n",
        "! mkdir ~/.kaggle\n",
        "!cp /content/drive/MyDrive/kaggle.json ~/.kaggle/kaggle.json\n",
        "! kaggle datasets download -d yasserh/titanic-dataset\n",
        "!unzip titanic-dataset.zip"
      ]
    },
    {
      "cell_type": "code",
      "source": [
        "!apt-get update\n",
        "!apt-get install openjdk-8-jdk-headless -qq > /dev/null\n",
        "!wget -q http://archive.apache.org/dist/spark/spark-3.1.1/spark-3.1.1-bin-hadoop3.2.tgz\n",
        "!tar xf spark-3.1.1-bin-hadoop3.2.tgz\n",
        "!pip install -q findspark"
      ],
      "metadata": {
        "colab": {
          "base_uri": "https://localhost:8080/"
        },
        "id": "JeDymD_tlMuk",
        "outputId": "785222af-17c9-484a-89a5-19c4f0394c35"
      },
      "execution_count": 2,
      "outputs": [
        {
          "output_type": "stream",
          "name": "stdout",
          "text": [
            "\r0% [Working]\r            \rHit:1 https://cloud.r-project.org/bin/linux/ubuntu bionic-cran40/ InRelease\n",
            "\r0% [Waiting for headers] [Waiting for headers] [Waiting for headers] [Connectin\r0% [1 InRelease gpgv 3,626 B] [Waiting for headers] [Waiting for headers] [Wait\r                                                                               \rHit:2 http://archive.ubuntu.com/ubuntu bionic InRelease\n",
            "\r0% [1 InRelease gpgv 3,626 B] [Waiting for headers] [Waiting for headers] [Conn\r                                                                               \rGet:3 http://security.ubuntu.com/ubuntu bionic-security InRelease [88.7 kB]\n",
            "\r0% [1 InRelease gpgv 3,626 B] [Waiting for headers] [3 InRelease 14.2 kB/88.7 k\r                                                                               \rIgn:4 https://developer.download.nvidia.com/compute/machine-learning/repos/ubuntu1804/x86_64  InRelease\n",
            "Hit:5 https://developer.download.nvidia.com/compute/cuda/repos/ubuntu1804/x86_64  InRelease\n",
            "Hit:6 https://developer.download.nvidia.com/compute/machine-learning/repos/ubuntu1804/x86_64  Release\n",
            "Get:7 http://archive.ubuntu.com/ubuntu bionic-updates InRelease [88.7 kB]\n",
            "Hit:8 http://ppa.launchpad.net/c2d4u.team/c2d4u4.0+/ubuntu bionic InRelease\n",
            "Hit:9 http://ppa.launchpad.net/cran/libgit2/ubuntu bionic InRelease\n",
            "Get:10 http://archive.ubuntu.com/ubuntu bionic-backports InRelease [74.6 kB]\n",
            "Hit:11 http://ppa.launchpad.net/deadsnakes/ppa/ubuntu bionic InRelease\n",
            "Hit:12 http://ppa.launchpad.net/graphics-drivers/ppa/ubuntu bionic InRelease\n",
            "Fetched 252 kB in 3s (92.1 kB/s)\n",
            "Reading package lists... Done\n"
          ]
        }
      ]
    },
    {
      "cell_type": "code",
      "source": [
        "import os\n",
        "os.environ[\"JAVA_HOME\"] = \"/usr/lib/jvm/java-8-openjdk-amd64\"\n",
        "os.environ[\"SPARK_HOME\"] = \"/content/spark-3.1.1-bin-hadoop3.2\""
      ],
      "metadata": {
        "id": "NR3Oq4O3ofrY"
      },
      "execution_count": 3,
      "outputs": []
    },
    {
      "cell_type": "code",
      "source": [
        "import findspark\n",
        "findspark.init()\n",
        "from pyspark.sql import SparkSession\n",
        "from pyspark.ml.feature import StringIndexer, VectorAssembler,  StandardScaler\n",
        "from pyspark.ml import Pipeline\n",
        "from pyspark.ml.classification import LogisticRegression\n",
        "from pyspark.sql.types import DoubleType\n",
        "from pyspark.sql.functions import col\n",
        "from pyspark.mllib.evaluation import  MulticlassMetrics\n",
        "spark = SparkSession.builder.master(\"local[4]\").getOrCreate()\n",
        "spark.conf.set(\"spark.sql.repl.eagerEval.enabled\", True) # Property used to format output tables better\n",
        "spark"
      ],
      "metadata": {
        "colab": {
          "base_uri": "https://localhost:8080/",
          "height": 221
        },
        "id": "b3P4iIGdogd3",
        "outputId": "fcb9366c-4548-4428-d917-1c360ed0f397"
      },
      "execution_count": 4,
      "outputs": [
        {
          "output_type": "execute_result",
          "data": {
            "text/plain": [
              "<pyspark.sql.session.SparkSession at 0x7fc465530250>"
            ],
            "text/html": [
              "\n",
              "            <div>\n",
              "                <p><b>SparkSession - in-memory</b></p>\n",
              "                \n",
              "        <div>\n",
              "            <p><b>SparkContext</b></p>\n",
              "\n",
              "            <p><a href=\"http://b179cdfc8a4e:4040\">Spark UI</a></p>\n",
              "\n",
              "            <dl>\n",
              "              <dt>Version</dt>\n",
              "                <dd><code>v3.1.1</code></dd>\n",
              "              <dt>Master</dt>\n",
              "                <dd><code>local[4]</code></dd>\n",
              "              <dt>AppName</dt>\n",
              "                <dd><code>pyspark-shell</code></dd>\n",
              "            </dl>\n",
              "        </div>\n",
              "        \n",
              "            </div>\n",
              "        "
            ]
          },
          "metadata": {},
          "execution_count": 4
        }
      ]
    },
    {
      "cell_type": "code",
      "source": [
        "df = spark.read.csv('*.csv', header=True, sep=\",\", inferSchema=True)\n",
        "df.show(5)"
      ],
      "metadata": {
        "colab": {
          "base_uri": "https://localhost:8080/"
        },
        "id": "oP3bAfSQooHY",
        "outputId": "61704f07-a968-4cb7-df1a-b0e8eb4e29d0"
      },
      "execution_count": 5,
      "outputs": [
        {
          "output_type": "stream",
          "name": "stdout",
          "text": [
            "+-----------+--------+------+--------------------+------+----+-----+-----+----------------+-------+-----+--------+\n",
            "|PassengerId|Survived|Pclass|                Name|   Sex| Age|SibSp|Parch|          Ticket|   Fare|Cabin|Embarked|\n",
            "+-----------+--------+------+--------------------+------+----+-----+-----+----------------+-------+-----+--------+\n",
            "|          1|       0|     3|Braund, Mr. Owen ...|  male|22.0|    1|    0|       A/5 21171|   7.25| null|       S|\n",
            "|          2|       1|     1|Cumings, Mrs. Joh...|female|38.0|    1|    0|        PC 17599|71.2833|  C85|       C|\n",
            "|          3|       1|     3|Heikkinen, Miss. ...|female|26.0|    0|    0|STON/O2. 3101282|  7.925| null|       S|\n",
            "|          4|       1|     1|Futrelle, Mrs. Ja...|female|35.0|    1|    0|          113803|   53.1| C123|       S|\n",
            "|          5|       0|     3|Allen, Mr. Willia...|  male|35.0|    0|    0|          373450|   8.05| null|       S|\n",
            "+-----------+--------+------+--------------------+------+----+-----+-----+----------------+-------+-----+--------+\n",
            "only showing top 5 rows\n",
            "\n"
          ]
        }
      ]
    },
    {
      "cell_type": "code",
      "source": [
        "df = df.select(\"Sex\", \"Age\", \"Sibsp\", \"Fare\", col(\"Survived\").cast(\"double\")).na.drop()\n",
        "df.show()"
      ],
      "metadata": {
        "colab": {
          "base_uri": "https://localhost:8080/"
        },
        "id": "WzpxZ9l4tk-I",
        "outputId": "cd294f00-4ad1-49e1-8e35-677a526515fa"
      },
      "execution_count": 6,
      "outputs": [
        {
          "output_type": "stream",
          "name": "stdout",
          "text": [
            "+------+----+-----+-------+--------+\n",
            "|   Sex| Age|Sibsp|   Fare|Survived|\n",
            "+------+----+-----+-------+--------+\n",
            "|  male|22.0|    1|   7.25|     0.0|\n",
            "|female|38.0|    1|71.2833|     1.0|\n",
            "|female|26.0|    0|  7.925|     1.0|\n",
            "|female|35.0|    1|   53.1|     1.0|\n",
            "|  male|35.0|    0|   8.05|     0.0|\n",
            "|  male|54.0|    0|51.8625|     0.0|\n",
            "|  male| 2.0|    3| 21.075|     0.0|\n",
            "|female|27.0|    0|11.1333|     1.0|\n",
            "|female|14.0|    1|30.0708|     1.0|\n",
            "|female| 4.0|    1|   16.7|     1.0|\n",
            "|female|58.0|    0|  26.55|     1.0|\n",
            "|  male|20.0|    0|   8.05|     0.0|\n",
            "|  male|39.0|    1| 31.275|     0.0|\n",
            "|female|14.0|    0| 7.8542|     0.0|\n",
            "|female|55.0|    0|   16.0|     1.0|\n",
            "|  male| 2.0|    4| 29.125|     0.0|\n",
            "|female|31.0|    1|   18.0|     0.0|\n",
            "|  male|35.0|    0|   26.0|     0.0|\n",
            "|  male|34.0|    0|   13.0|     1.0|\n",
            "|female|15.0|    0| 8.0292|     1.0|\n",
            "+------+----+-----+-------+--------+\n",
            "only showing top 20 rows\n",
            "\n"
          ]
        }
      ]
    },
    {
      "cell_type": "code",
      "source": [
        "df.printSchema()"
      ],
      "metadata": {
        "colab": {
          "base_uri": "https://localhost:8080/"
        },
        "id": "1s9sRKpUuuDF",
        "outputId": "9ab8c493-d8b3-4df4-fa54-26088785b5bd"
      },
      "execution_count": 7,
      "outputs": [
        {
          "output_type": "stream",
          "name": "stdout",
          "text": [
            "root\n",
            " |-- Sex: string (nullable = true)\n",
            " |-- Age: double (nullable = true)\n",
            " |-- Sibsp: integer (nullable = true)\n",
            " |-- Fare: double (nullable = true)\n",
            " |-- Survived: double (nullable = true)\n",
            "\n"
          ]
        }
      ]
    },
    {
      "cell_type": "code",
      "source": [
        "gender_indexer = StringIndexer(inputCol=\"Sex\", outputCol=\"Gender\")\n",
        "columns = ['Gender', 'Age', 'Sibsp', 'Fare']\n",
        "assembler = VectorAssembler(inputCols=columns, outputCol=\"v_features\")\n",
        "scaler = StandardScaler(inputCol=\"v_features\", outputCol=\"features\", withStd=True)\n",
        "pipeline = Pipeline(stages=[gender_indexer, assembler, scaler])\n",
        "data = pipeline.fit(df).transform(df)\n"
      ],
      "metadata": {
        "id": "oCBhl9I_wS31"
      },
      "execution_count": 8,
      "outputs": []
    },
    {
      "cell_type": "code",
      "source": [
        "data.show()"
      ],
      "metadata": {
        "colab": {
          "base_uri": "https://localhost:8080/"
        },
        "id": "377z7nqIw8Kn",
        "outputId": "3653e5ad-b66e-4a01-84f0-723e6dc17daf"
      },
      "execution_count": 9,
      "outputs": [
        {
          "output_type": "stream",
          "name": "stdout",
          "text": [
            "+------+----+-----+-------+--------+------+--------------------+--------------------+\n",
            "|   Sex| Age|Sibsp|   Fare|Survived|Gender|          v_features|            features|\n",
            "+------+----+-----+-------+--------+------+--------------------+--------------------+\n",
            "|  male|22.0|    1|   7.25|     0.0|   0.0| [0.0,22.0,1.0,7.25]|[0.0,1.5144738264...|\n",
            "|female|38.0|    1|71.2833|     1.0|   1.0|[1.0,38.0,1.0,71....|[2.07503065065606...|\n",
            "|female|26.0|    0|  7.925|     1.0|   1.0|[1.0,26.0,0.0,7.925]|[2.07503065065606...|\n",
            "|female|35.0|    1|   53.1|     1.0|   1.0| [1.0,35.0,1.0,53.1]|[2.07503065065606...|\n",
            "|  male|35.0|    0|   8.05|     0.0|   0.0| [0.0,35.0,0.0,8.05]|[0.0,2.4093901784...|\n",
            "|  male|54.0|    0|51.8625|     0.0|   0.0|[0.0,54.0,0.0,51....|[0.0,3.7173448467...|\n",
            "|  male| 2.0|    3| 21.075|     0.0|   0.0|[0.0,2.0,3.0,21.075]|[0.0,0.1376794387...|\n",
            "|female|27.0|    0|11.1333|     1.0|   1.0|[1.0,27.0,0.0,11....|[2.07503065065606...|\n",
            "|female|14.0|    1|30.0708|     1.0|   1.0|[1.0,14.0,1.0,30....|[2.07503065065606...|\n",
            "|female| 4.0|    1|   16.7|     1.0|   1.0|  [1.0,4.0,1.0,16.7]|[2.07503065065606...|\n",
            "|female|58.0|    0|  26.55|     1.0|   1.0|[1.0,58.0,0.0,26.55]|[2.07503065065606...|\n",
            "|  male|20.0|    0|   8.05|     0.0|   0.0| [0.0,20.0,0.0,8.05]|[0.0,1.3767943876...|\n",
            "|  male|39.0|    1| 31.275|     0.0|   0.0|[0.0,39.0,1.0,31....|[0.0,2.6847490560...|\n",
            "|female|14.0|    0| 7.8542|     0.0|   1.0|[1.0,14.0,0.0,7.8...|[2.07503065065606...|\n",
            "|female|55.0|    0|   16.0|     1.0|   1.0| [1.0,55.0,0.0,16.0]|[2.07503065065606...|\n",
            "|  male| 2.0|    4| 29.125|     0.0|   0.0|[0.0,2.0,4.0,29.125]|[0.0,0.1376794387...|\n",
            "|female|31.0|    1|   18.0|     0.0|   1.0| [1.0,31.0,1.0,18.0]|[2.07503065065606...|\n",
            "|  male|35.0|    0|   26.0|     0.0|   0.0| [0.0,35.0,0.0,26.0]|[0.0,2.4093901784...|\n",
            "|  male|34.0|    0|   13.0|     1.0|   0.0| [0.0,34.0,0.0,13.0]|[0.0,2.3405504590...|\n",
            "|female|15.0|    0| 8.0292|     1.0|   1.0|[1.0,15.0,0.0,8.0...|[2.07503065065606...|\n",
            "+------+----+-----+-------+--------+------+--------------------+--------------------+\n",
            "only showing top 20 rows\n",
            "\n"
          ]
        }
      ]
    },
    {
      "cell_type": "code",
      "source": [
        "train,test = data.randomSplit([0.7, 0.3], seed=42)\n",
        "log_reg = LogisticRegression(featuresCol='features', labelCol='Survived')\n",
        "log_regModel = log_reg.fit(train)"
      ],
      "metadata": {
        "id": "BtVZEjS-w9Yw"
      },
      "execution_count": 10,
      "outputs": []
    },
    {
      "cell_type": "code",
      "source": [
        "predictions = log_regModel.transform(test)\n",
        "predictions.show()"
      ],
      "metadata": {
        "colab": {
          "base_uri": "https://localhost:8080/"
        },
        "id": "cINYfZgk0WNg",
        "outputId": "98c01cd1-840d-41f8-9d07-b6c6ecd5c6a3"
      },
      "execution_count": 11,
      "outputs": [
        {
          "output_type": "stream",
          "name": "stdout",
          "text": [
            "+------+----+-----+-------+--------+------+--------------------+--------------------+--------------------+--------------------+----------+\n",
            "|   Sex| Age|Sibsp|   Fare|Survived|Gender|          v_features|            features|       rawPrediction|         probability|prediction|\n",
            "+------+----+-----+-------+--------+------+--------------------+--------------------+--------------------+--------------------+----------+\n",
            "|female| 1.0|    0|15.7417|     1.0|   1.0|[1.0,1.0,0.0,15.7...|[2.07503065065606...|[-1.7330699669381...|[0.15019531840662...|       1.0|\n",
            "|female| 2.0|    1|   26.0|     1.0|   1.0|  [1.0,2.0,1.0,26.0]|[2.07503065065606...|[-1.4708363464906...|[0.18681552670407...|       1.0|\n",
            "|female| 2.0|    3|   27.9|     0.0|   1.0|  [1.0,2.0,3.0,27.9]|[2.07503065065606...|[-0.7486381991553...|[0.32111810278665...|       1.0|\n",
            "|female| 2.0|    4| 31.275|     0.0|   1.0|[1.0,2.0,4.0,31.275]|[2.07503065065606...|[-0.4195137832555...|[0.39663310338384...|       1.0|\n",
            "|female| 4.0|    0| 22.025|     1.0|   1.0|[1.0,4.0,0.0,22.025]|[2.07503065065606...|[-1.7443126137952...|[0.14876598049027...|       1.0|\n",
            "|female| 4.0|    1|   16.7|     1.0|   1.0|  [1.0,4.0,1.0,16.7]|[2.07503065065606...|[-1.3004749927079...|[0.21408508731602...|       1.0|\n",
            "|female| 4.0|    1|   23.0|     1.0|   1.0|  [1.0,4.0,1.0,23.0]|[2.07503065065606...|[-1.3835431757747...|[0.20044055299022...|       1.0|\n",
            "|female| 5.0|    2|19.2583|     1.0|   1.0|[1.0,5.0,2.0,19.2...|[2.07503065065606...|[-0.9367135929564...|[0.28156465923588...|       1.0|\n",
            "|female| 6.0|    0|   33.0|     1.0|   1.0|  [1.0,6.0,0.0,33.0]|[2.07503065065606...|[-1.8412857698030...|[0.13689929780134...|       1.0|\n",
            "|female| 7.0|    0|  26.25|     1.0|   1.0| [1.0,7.0,0.0,26.25]|[2.07503065065606...|[-1.7284156985561...|[0.15079034146669...|       1.0|\n",
            "|female| 8.0|    0|  26.25|     1.0|   1.0| [1.0,8.0,0.0,26.25]|[2.07503065065606...|[-1.7045472520236...|[0.15387230054386...|       1.0|\n",
            "|female| 9.0|    3|   27.9|     0.0|   1.0|  [1.0,9.0,3.0,27.9]|[2.07503065065606...|[-0.5815590734278...|[0.35857392984507...|       1.0|\n",
            "|female| 9.0|    4| 31.275|     0.0|   1.0|[1.0,9.0,4.0,31.275]|[2.07503065065606...|[-0.2524346575280...|[0.43722433791283...|       1.0|\n",
            "|female|10.0|    0|  24.15|     0.0|   1.0|[1.0,10.0,0.0,24.15]|[2.07503065065606...|[-1.6291209646030...|[0.16395081584669...|       1.0|\n",
            "|female|13.0|    0| 7.2292|     1.0|   1.0|[1.0,13.0,0.0,7.2...|[2.07503065065606...|[-1.3344076707138...|[0.20843121940696...|       1.0|\n",
            "|female|14.0|    0| 7.8542|     0.0|   1.0|[1.0,14.0,0.0,7.8...|[2.07503065065606...|[-1.3187801153586...|[0.21102132208950...|       1.0|\n",
            "|female|14.0|    1|11.2417|     1.0|   1.0|[1.0,14.0,1.0,11....|[2.07503065065606...|[-0.9898205172823...|[0.27094753030565...|       1.0|\n",
            "|female|15.0|    0|  7.225|     1.0|   1.0|[1.0,15.0,0.0,7.225]|[2.07503065065606...|[-1.2866153988601...|[0.21642624061456...|       1.0|\n",
            "|female|15.0|    1|14.4542|     1.0|   1.0|[1.0,15.0,1.0,14....|[2.07503065065606...|[-1.0083102514010...|[0.26731066746140...|       1.0|\n",
            "|female|16.0|    0| 7.7333|     1.0|   1.0|[1.0,16.0,0.0,7.7...|[2.07503065065606...|[-1.2694491043043...|[0.21935157093138...|       1.0|\n",
            "+------+----+-----+-------+--------+------+--------------------+--------------------+--------------------+--------------------+----------+\n",
            "only showing top 20 rows\n",
            "\n"
          ]
        }
      ]
    },
    {
      "cell_type": "code",
      "source": [
        "# evaluator = MulticlassClassificationEvaluator(labelCol=\"Survived\",predictionCol=\"prediction\")\n",
        "# # bi_evaluator = BinaryClassificationEvaluator(labelCol=\"Survived\",predictionCol=\"prediction\")\n",
        "# print('-----------------------------------')\n",
        "# print('LR Train Metrics:')\n",
        "\n",
        "# accuracy = evaluator.evaluate(predictions.select(\"Survived\", \"prediction\"), {evaluator.metricName: \"accuracy\"})\n",
        "# print(\"Accuracy : \" + str(round(accuracy,2)))\n",
        "\n",
        "# f1_Score = evaluator.evaluate(predictions, {evaluator.metricName: \"f1\"})\n",
        "# print(\"f1_Score : \" + str(f1_Score))"
      ],
      "metadata": {
        "id": "VtzNOz210tJh"
      },
      "execution_count": 12,
      "outputs": []
    },
    {
      "cell_type": "code",
      "source": [
        "metrics_multi = MulticlassMetrics(predictions.select(\"Survived\", \"prediction\").rdd.map(tuple))"
      ],
      "metadata": {
        "id": "4lUWoydzGuYX"
      },
      "execution_count": 13,
      "outputs": []
    },
    {
      "cell_type": "code",
      "source": [
        "print('-----------------------------------')\n",
        "print('LR Train Metrics:')\n",
        "\n",
        "print(\"Accuracy : \" + str(round(metrics_multi.accuracy,2)))\n",
        "print(\"F1_Score : \" + str(round(metrics_multi.fMeasure(1.0),2)))\n",
        "print(\"Precision_Score : \" + str(round(metrics_multi.precision(1.0),2)))\n",
        "print(\"Recall_Score : \" + str(round(metrics_multi.recall(1.0),2)))"
      ],
      "metadata": {
        "colab": {
          "base_uri": "https://localhost:8080/"
        },
        "id": "efasQtkhS_SU",
        "outputId": "0d54386e-bcd2-42a9-a0ae-8dfc5d629300"
      },
      "execution_count": 14,
      "outputs": [
        {
          "output_type": "stream",
          "name": "stdout",
          "text": [
            "-----------------------------------\n",
            "LR Train Metrics:\n",
            "Accuracy : 0.79\n",
            "F1_Score : 0.72\n",
            "Precision_Score : 0.68\n",
            "Recall_Score : 0.76\n"
          ]
        }
      ]
    },
    {
      "cell_type": "code",
      "source": [
        "import pandas as pd\n",
        "pd.DataFrame(metrics_multi.confusionMatrix().toArray())\n"
      ],
      "metadata": {
        "colab": {
          "base_uri": "https://localhost:8080/",
          "height": 112
        },
        "id": "6TZvl-idTknD",
        "outputId": "ac8a6b2c-3aed-48c1-9540-d1897dde8e96"
      },
      "execution_count": 21,
      "outputs": [
        {
          "output_type": "execute_result",
          "data": {
            "text/plain": [
              "      0     1\n",
              "0  97.0  24.0\n",
              "1  16.0  51.0"
            ],
            "text/html": [
              "\n",
              "  <div id=\"df-e511f896-4be9-43c7-b972-bb43b768a811\">\n",
              "    <div class=\"colab-df-container\">\n",
              "      <div>\n",
              "<style scoped>\n",
              "    .dataframe tbody tr th:only-of-type {\n",
              "        vertical-align: middle;\n",
              "    }\n",
              "\n",
              "    .dataframe tbody tr th {\n",
              "        vertical-align: top;\n",
              "    }\n",
              "\n",
              "    .dataframe thead th {\n",
              "        text-align: right;\n",
              "    }\n",
              "</style>\n",
              "<table border=\"1\" class=\"dataframe\">\n",
              "  <thead>\n",
              "    <tr style=\"text-align: right;\">\n",
              "      <th></th>\n",
              "      <th>0</th>\n",
              "      <th>1</th>\n",
              "    </tr>\n",
              "  </thead>\n",
              "  <tbody>\n",
              "    <tr>\n",
              "      <th>0</th>\n",
              "      <td>97.0</td>\n",
              "      <td>24.0</td>\n",
              "    </tr>\n",
              "    <tr>\n",
              "      <th>1</th>\n",
              "      <td>16.0</td>\n",
              "      <td>51.0</td>\n",
              "    </tr>\n",
              "  </tbody>\n",
              "</table>\n",
              "</div>\n",
              "      <button class=\"colab-df-convert\" onclick=\"convertToInteractive('df-e511f896-4be9-43c7-b972-bb43b768a811')\"\n",
              "              title=\"Convert this dataframe to an interactive table.\"\n",
              "              style=\"display:none;\">\n",
              "        \n",
              "  <svg xmlns=\"http://www.w3.org/2000/svg\" height=\"24px\"viewBox=\"0 0 24 24\"\n",
              "       width=\"24px\">\n",
              "    <path d=\"M0 0h24v24H0V0z\" fill=\"none\"/>\n",
              "    <path d=\"M18.56 5.44l.94 2.06.94-2.06 2.06-.94-2.06-.94-.94-2.06-.94 2.06-2.06.94zm-11 1L8.5 8.5l.94-2.06 2.06-.94-2.06-.94L8.5 2.5l-.94 2.06-2.06.94zm10 10l.94 2.06.94-2.06 2.06-.94-2.06-.94-.94-2.06-.94 2.06-2.06.94z\"/><path d=\"M17.41 7.96l-1.37-1.37c-.4-.4-.92-.59-1.43-.59-.52 0-1.04.2-1.43.59L10.3 9.45l-7.72 7.72c-.78.78-.78 2.05 0 2.83L4 21.41c.39.39.9.59 1.41.59.51 0 1.02-.2 1.41-.59l7.78-7.78 2.81-2.81c.8-.78.8-2.07 0-2.86zM5.41 20L4 18.59l7.72-7.72 1.47 1.35L5.41 20z\"/>\n",
              "  </svg>\n",
              "      </button>\n",
              "      \n",
              "  <style>\n",
              "    .colab-df-container {\n",
              "      display:flex;\n",
              "      flex-wrap:wrap;\n",
              "      gap: 12px;\n",
              "    }\n",
              "\n",
              "    .colab-df-convert {\n",
              "      background-color: #E8F0FE;\n",
              "      border: none;\n",
              "      border-radius: 50%;\n",
              "      cursor: pointer;\n",
              "      display: none;\n",
              "      fill: #1967D2;\n",
              "      height: 32px;\n",
              "      padding: 0 0 0 0;\n",
              "      width: 32px;\n",
              "    }\n",
              "\n",
              "    .colab-df-convert:hover {\n",
              "      background-color: #E2EBFA;\n",
              "      box-shadow: 0px 1px 2px rgba(60, 64, 67, 0.3), 0px 1px 3px 1px rgba(60, 64, 67, 0.15);\n",
              "      fill: #174EA6;\n",
              "    }\n",
              "\n",
              "    [theme=dark] .colab-df-convert {\n",
              "      background-color: #3B4455;\n",
              "      fill: #D2E3FC;\n",
              "    }\n",
              "\n",
              "    [theme=dark] .colab-df-convert:hover {\n",
              "      background-color: #434B5C;\n",
              "      box-shadow: 0px 1px 3px 1px rgba(0, 0, 0, 0.15);\n",
              "      filter: drop-shadow(0px 1px 2px rgba(0, 0, 0, 0.3));\n",
              "      fill: #FFFFFF;\n",
              "    }\n",
              "  </style>\n",
              "\n",
              "      <script>\n",
              "        const buttonEl =\n",
              "          document.querySelector('#df-e511f896-4be9-43c7-b972-bb43b768a811 button.colab-df-convert');\n",
              "        buttonEl.style.display =\n",
              "          google.colab.kernel.accessAllowed ? 'block' : 'none';\n",
              "\n",
              "        async function convertToInteractive(key) {\n",
              "          const element = document.querySelector('#df-e511f896-4be9-43c7-b972-bb43b768a811');\n",
              "          const dataTable =\n",
              "            await google.colab.kernel.invokeFunction('convertToInteractive',\n",
              "                                                     [key], {});\n",
              "          if (!dataTable) return;\n",
              "\n",
              "          const docLinkHtml = 'Like what you see? Visit the ' +\n",
              "            '<a target=\"_blank\" href=https://colab.research.google.com/notebooks/data_table.ipynb>data table notebook</a>'\n",
              "            + ' to learn more about interactive tables.';\n",
              "          element.innerHTML = '';\n",
              "          dataTable['output_type'] = 'display_data';\n",
              "          await google.colab.output.renderOutput(dataTable, element);\n",
              "          const docLink = document.createElement('div');\n",
              "          docLink.innerHTML = docLinkHtml;\n",
              "          element.appendChild(docLink);\n",
              "        }\n",
              "      </script>\n",
              "    </div>\n",
              "  </div>\n",
              "  "
            ]
          },
          "metadata": {},
          "execution_count": 21
        }
      ]
    },
    {
      "cell_type": "code",
      "source": [
        ""
      ],
      "metadata": {
        "id": "_uEDyR83XpTc"
      },
      "execution_count": null,
      "outputs": []
    }
  ]
}